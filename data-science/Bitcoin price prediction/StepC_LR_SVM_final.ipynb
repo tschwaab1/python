{
 "cells": [
  {
   "cell_type": "code",
   "execution_count": 1,
   "id": "e36d13d5-c9db-4aeb-a914-5f2bd9bd8cb0",
   "metadata": {},
   "outputs": [],
   "source": [
    "#import all the necessary libraries\n",
    "import numpy as np\n",
    "import pandas as pd\n",
    "from matplotlib import pyplot as plt\n",
    "\n",
    "from sklearn import svm\n",
    "from sklearn.svm import SVR\n",
    "\n",
    "from sklearn.linear_model import LinearRegression\n",
    "from sklearn.model_selection import train_test_split\n",
    "from sklearn.preprocessing import MinMaxScaler\n",
    "from sklearn.metrics import mean_absolute_error, mean_squared_error, r2_score, explained_variance_score, max_error, mean_pinball_loss"
   ]
  },
  {
   "cell_type": "code",
   "execution_count": 2,
   "id": "d3bb6dac-7569-4529-9dc8-4c3d1ad13f68",
   "metadata": {},
   "outputs": [],
   "source": [
    "# days defines the time period for predicting\n",
    "days = 30\n",
    "\n",
    "##############Support Vecor Machine##################\n",
    "gamma = 1e-12\n",
    "kernel = \"rbf\"\n",
    "c = 1e8\n",
    "\n",
    "######some other declerations and function###########\n",
    "\n",
    "min_max_scalar = MinMaxScaler()\n",
    "\n",
    "def metrics(true, predicted, model):\n",
    "    print(\"Model: \"+model)\n",
    "    print(\"Mean Absolute Error: \"+str(mean_absolute_error(true, predicted)))\n",
    "    print(\"Root Mean Square Error: \"+str(np.sqrt(mean_squared_error(true, predicted))))\n",
    "    print(\"Explained Variance Score: \"+str(explained_variance_score(true, predicted)))\n",
    "    print(\"R² Score: \"+str(r2_score(true, predicted)))\n",
    "    print(\"Max Error Scorer: \"+str(max_error(true, predicted))+\"\\n\")\n",
    "    print(\"**********************************************************\\n\")"
   ]
  },
  {
   "cell_type": "markdown",
   "id": "603112c9-d44b-4f35-8de4-aa5dbeffceac",
   "metadata": {
    "tags": []
   },
   "source": [
    "#### Starting with the last Preparations\n",
    "\n",
    "This Notebook will start with the results/cleaned dataframe from \"StepA_DataPrepartion.ipynb\" which is stored in under the Path \"./data/daily_dataframe.csv\""
   ]
  },
  {
   "cell_type": "code",
   "execution_count": 3,
   "id": "12adecaf-3ffe-4099-8519-4515d33186f8",
   "metadata": {},
   "outputs": [],
   "source": [
    "df = pd.read_csv(\"./data/daily_dataframe.csv\")"
   ]
  },
  {
   "cell_type": "code",
   "execution_count": 4,
   "id": "482630ae-709c-46f7-a8e8-f16e1cb3a176",
   "metadata": {},
   "outputs": [
    {
     "data": {
      "text/html": [
       "<div>\n",
       "<style scoped>\n",
       "    .dataframe tbody tr th:only-of-type {\n",
       "        vertical-align: middle;\n",
       "    }\n",
       "\n",
       "    .dataframe tbody tr th {\n",
       "        vertical-align: top;\n",
       "    }\n",
       "\n",
       "    .dataframe thead th {\n",
       "        text-align: right;\n",
       "    }\n",
       "</style>\n",
       "<table border=\"1\" class=\"dataframe\">\n",
       "  <thead>\n",
       "    <tr style=\"text-align: right;\">\n",
       "      <th></th>\n",
       "      <th>Open</th>\n",
       "      <th>High</th>\n",
       "      <th>Low</th>\n",
       "      <th>Close</th>\n",
       "      <th>Volume_(BTC)</th>\n",
       "      <th>Volume_(Currency)</th>\n",
       "      <th>Weighted_Price</th>\n",
       "    </tr>\n",
       "  </thead>\n",
       "  <tbody>\n",
       "    <tr>\n",
       "      <th>0</th>\n",
       "      <td>4.476415</td>\n",
       "      <td>4.478946</td>\n",
       "      <td>4.476415</td>\n",
       "      <td>4.478946</td>\n",
       "      <td>18.296675</td>\n",
       "      <td>81.131884</td>\n",
       "      <td>4.477370</td>\n",
       "    </tr>\n",
       "    <tr>\n",
       "      <th>1</th>\n",
       "      <td>4.765486</td>\n",
       "      <td>4.765486</td>\n",
       "      <td>4.765486</td>\n",
       "      <td>4.765486</td>\n",
       "      <td>6.520824</td>\n",
       "      <td>31.728779</td>\n",
       "      <td>4.765486</td>\n",
       "    </tr>\n",
       "    <tr>\n",
       "      <th>2</th>\n",
       "      <td>5.000000</td>\n",
       "      <td>5.000000</td>\n",
       "      <td>5.000000</td>\n",
       "      <td>5.000000</td>\n",
       "      <td>15.537153</td>\n",
       "      <td>77.685764</td>\n",
       "      <td>5.000000</td>\n",
       "    </tr>\n",
       "    <tr>\n",
       "      <th>3</th>\n",
       "      <td>5.225903</td>\n",
       "      <td>5.225903</td>\n",
       "      <td>5.225903</td>\n",
       "      <td>5.225903</td>\n",
       "      <td>7.633635</td>\n",
       "      <td>39.441143</td>\n",
       "      <td>5.225903</td>\n",
       "    </tr>\n",
       "    <tr>\n",
       "      <th>4</th>\n",
       "      <td>5.186993</td>\n",
       "      <td>5.227674</td>\n",
       "      <td>5.186993</td>\n",
       "      <td>5.227674</td>\n",
       "      <td>13.885945</td>\n",
       "      <td>74.060105</td>\n",
       "      <td>5.201707</td>\n",
       "    </tr>\n",
       "    <tr>\n",
       "      <th>...</th>\n",
       "      <td>...</td>\n",
       "      <td>...</td>\n",
       "      <td>...</td>\n",
       "      <td>...</td>\n",
       "      <td>...</td>\n",
       "      <td>...</td>\n",
       "      <td>...</td>\n",
       "    </tr>\n",
       "    <tr>\n",
       "      <th>3371</th>\n",
       "      <td>55192.143139</td>\n",
       "      <td>55218.473451</td>\n",
       "      <td>55167.740437</td>\n",
       "      <td>55194.338458</td>\n",
       "      <td>1.814064</td>\n",
       "      <td>100341.387345</td>\n",
       "      <td>55192.261999</td>\n",
       "    </tr>\n",
       "    <tr>\n",
       "      <th>3372</th>\n",
       "      <td>55834.184958</td>\n",
       "      <td>55858.268208</td>\n",
       "      <td>55811.112208</td>\n",
       "      <td>55835.612028</td>\n",
       "      <td>1.443994</td>\n",
       "      <td>80412.639688</td>\n",
       "      <td>55833.580482</td>\n",
       "    </tr>\n",
       "    <tr>\n",
       "      <th>3373</th>\n",
       "      <td>56911.283486</td>\n",
       "      <td>56942.541743</td>\n",
       "      <td>56881.677681</td>\n",
       "      <td>56911.995660</td>\n",
       "      <td>3.724880</td>\n",
       "      <td>213292.698642</td>\n",
       "      <td>56910.369124</td>\n",
       "    </tr>\n",
       "    <tr>\n",
       "      <th>3374</th>\n",
       "      <td>58346.922167</td>\n",
       "      <td>58371.047285</td>\n",
       "      <td>58323.091465</td>\n",
       "      <td>58348.516944</td>\n",
       "      <td>2.359691</td>\n",
       "      <td>137978.415411</td>\n",
       "      <td>58346.019783</td>\n",
       "    </tr>\n",
       "    <tr>\n",
       "      <th>3375</th>\n",
       "      <td>58767.750000</td>\n",
       "      <td>58778.180000</td>\n",
       "      <td>58755.970000</td>\n",
       "      <td>58778.180000</td>\n",
       "      <td>2.712831</td>\n",
       "      <td>159417.751000</td>\n",
       "      <td>58764.349363</td>\n",
       "    </tr>\n",
       "  </tbody>\n",
       "</table>\n",
       "<p>3376 rows × 7 columns</p>\n",
       "</div>"
      ],
      "text/plain": [
       "              Open          High           Low         Close  Volume_(BTC)  \\\n",
       "0         4.476415      4.478946      4.476415      4.478946     18.296675   \n",
       "1         4.765486      4.765486      4.765486      4.765486      6.520824   \n",
       "2         5.000000      5.000000      5.000000      5.000000     15.537153   \n",
       "3         5.225903      5.225903      5.225903      5.225903      7.633635   \n",
       "4         5.186993      5.227674      5.186993      5.227674     13.885945   \n",
       "...            ...           ...           ...           ...           ...   \n",
       "3371  55192.143139  55218.473451  55167.740437  55194.338458      1.814064   \n",
       "3372  55834.184958  55858.268208  55811.112208  55835.612028      1.443994   \n",
       "3373  56911.283486  56942.541743  56881.677681  56911.995660      3.724880   \n",
       "3374  58346.922167  58371.047285  58323.091465  58348.516944      2.359691   \n",
       "3375  58767.750000  58778.180000  58755.970000  58778.180000      2.712831   \n",
       "\n",
       "      Volume_(Currency)  Weighted_Price  \n",
       "0             81.131884        4.477370  \n",
       "1             31.728779        4.765486  \n",
       "2             77.685764        5.000000  \n",
       "3             39.441143        5.225903  \n",
       "4             74.060105        5.201707  \n",
       "...                 ...             ...  \n",
       "3371      100341.387345    55192.261999  \n",
       "3372       80412.639688    55833.580482  \n",
       "3373      213292.698642    56910.369124  \n",
       "3374      137978.415411    58346.019783  \n",
       "3375      159417.751000    58764.349363  \n",
       "\n",
       "[3376 rows x 7 columns]"
      ]
     },
     "execution_count": 4,
     "metadata": {},
     "output_type": "execute_result"
    }
   ],
   "source": [
    "df"
   ]
  },
  {
   "cell_type": "markdown",
   "id": "a367de88-e692-4042-8305-81f37fda0517",
   "metadata": {},
   "source": [
    "Last check for NaN values:"
   ]
  },
  {
   "cell_type": "code",
   "execution_count": 5,
   "id": "bef6e424-e9b3-491f-a62e-588c344931f7",
   "metadata": {},
   "outputs": [
    {
     "data": {
      "text/plain": [
       "Open                 0\n",
       "High                 0\n",
       "Low                  0\n",
       "Close                0\n",
       "Volume_(BTC)         0\n",
       "Volume_(Currency)    0\n",
       "Weighted_Price       0\n",
       "dtype: int64"
      ]
     },
     "execution_count": 5,
     "metadata": {},
     "output_type": "execute_result"
    }
   ],
   "source": [
    "df.isnull().sum(axis = 0)"
   ]
  },
  {
   "cell_type": "markdown",
   "id": "10ac48cc-6880-41ad-bda5-1a6e0732ac7f",
   "metadata": {},
   "source": [
    "Since the dataset has been already prepared in the first step, the are no NaN values.  \n",
    "But to get a smaller dataframe I will only work with Weighted_Price, because it fully correlates with OHLC(Open,High,Low and Close) Prices"
   ]
  },
  {
   "cell_type": "code",
   "execution_count": 6,
   "id": "271d06de-7b97-4c10-af7c-efd7250ce02f",
   "metadata": {},
   "outputs": [
    {
     "data": {
      "text/html": [
       "<div>\n",
       "<style scoped>\n",
       "    .dataframe tbody tr th:only-of-type {\n",
       "        vertical-align: middle;\n",
       "    }\n",
       "\n",
       "    .dataframe tbody tr th {\n",
       "        vertical-align: top;\n",
       "    }\n",
       "\n",
       "    .dataframe thead th {\n",
       "        text-align: right;\n",
       "    }\n",
       "</style>\n",
       "<table border=\"1\" class=\"dataframe\">\n",
       "  <thead>\n",
       "    <tr style=\"text-align: right;\">\n",
       "      <th></th>\n",
       "      <th>Weighted_Price</th>\n",
       "    </tr>\n",
       "  </thead>\n",
       "  <tbody>\n",
       "    <tr>\n",
       "      <th>0</th>\n",
       "      <td>4.477370</td>\n",
       "    </tr>\n",
       "    <tr>\n",
       "      <th>1</th>\n",
       "      <td>4.765486</td>\n",
       "    </tr>\n",
       "    <tr>\n",
       "      <th>2</th>\n",
       "      <td>5.000000</td>\n",
       "    </tr>\n",
       "    <tr>\n",
       "      <th>3</th>\n",
       "      <td>5.225903</td>\n",
       "    </tr>\n",
       "    <tr>\n",
       "      <th>4</th>\n",
       "      <td>5.201707</td>\n",
       "    </tr>\n",
       "    <tr>\n",
       "      <th>...</th>\n",
       "      <td>...</td>\n",
       "    </tr>\n",
       "    <tr>\n",
       "      <th>3371</th>\n",
       "      <td>55192.261999</td>\n",
       "    </tr>\n",
       "    <tr>\n",
       "      <th>3372</th>\n",
       "      <td>55833.580482</td>\n",
       "    </tr>\n",
       "    <tr>\n",
       "      <th>3373</th>\n",
       "      <td>56910.369124</td>\n",
       "    </tr>\n",
       "    <tr>\n",
       "      <th>3374</th>\n",
       "      <td>58346.019783</td>\n",
       "    </tr>\n",
       "    <tr>\n",
       "      <th>3375</th>\n",
       "      <td>58764.349363</td>\n",
       "    </tr>\n",
       "  </tbody>\n",
       "</table>\n",
       "<p>3376 rows × 1 columns</p>\n",
       "</div>"
      ],
      "text/plain": [
       "      Weighted_Price\n",
       "0           4.477370\n",
       "1           4.765486\n",
       "2           5.000000\n",
       "3           5.225903\n",
       "4           5.201707\n",
       "...              ...\n",
       "3371    55192.261999\n",
       "3372    55833.580482\n",
       "3373    56910.369124\n",
       "3374    58346.019783\n",
       "3375    58764.349363\n",
       "\n",
       "[3376 rows x 1 columns]"
      ]
     },
     "execution_count": 6,
     "metadata": {},
     "output_type": "execute_result"
    }
   ],
   "source": [
    "df = df.drop(['Open','High','Low','Close','Volume_(BTC)','Volume_(Currency)'], axis = 1)\n",
    "df"
   ]
  },
  {
   "cell_type": "code",
   "execution_count": 7,
   "id": "b08db317-d758-4dba-8155-65bd859c0782",
   "metadata": {},
   "outputs": [],
   "source": [
    "#Creating a Scaled Dataframe\n",
    "df_scaled = min_max_scalar.fit_transform(df)"
   ]
  },
  {
   "cell_type": "code",
   "execution_count": 8,
   "id": "739b01e7-e9ad-4539-8703-b2931acd3427",
   "metadata": {},
   "outputs": [],
   "source": [
    "#Create Column for Prediction and shift it for last x days (Parameter from the beginning)\n",
    "\n",
    "df['pred'] = df[['Weighted_Price']].shift(-days)\n",
    "\n",
    "#Converting the Dataframe into an array\n",
    "X = np.array(df.drop(columns='pred',axis=1))\n",
    "X = X[:-days]\n",
    "\n",
    "#print(X)\n",
    "\n",
    "y = np.array(df['pred'])\n",
    "# Get all of the y values except the last '30' rows\n",
    "y = y[:-days]\n",
    "\n",
    "#setting up a variable \"pred\" containing the days for prediction\n",
    "pred = np.array(df.drop(columns='pred',axis=1))[-days:]"
   ]
  },
  {
   "cell_type": "code",
   "execution_count": 9,
   "id": "4eb0e1d7-ab7a-4307-8fdd-d876202e5c42",
   "metadata": {},
   "outputs": [],
   "source": [
    "# Split the data into training and testing with train_test_split()\n",
    "x_train, x_test, y_train, y_test = train_test_split(X, y, test_size=0.2)"
   ]
  },
  {
   "cell_type": "markdown",
   "id": "d267f569-b7b6-4a13-9b29-9f504211dc0c",
   "metadata": {},
   "source": [
    "#### Starting with the Models"
   ]
  },
  {
   "cell_type": "code",
   "execution_count": 10,
   "id": "61e34d2b-86c1-471b-91d1-1023c4531fce",
   "metadata": {},
   "outputs": [
    {
     "data": {
      "text/plain": [
       "SVR(C=100000000.0, gamma=1e-12)"
      ]
     },
     "execution_count": 10,
     "metadata": {},
     "output_type": "execute_result"
    }
   ],
   "source": [
    "#Initialising the Model(SVM) and fitting\n",
    "\n",
    "svm = SVR(kernel=kernel, C=c, gamma=gamma) \n",
    "svm.fit(x_train, y_train)"
   ]
  },
  {
   "cell_type": "code",
   "execution_count": 11,
   "id": "daedc80f-eb9f-4674-b292-62d675ce95fc",
   "metadata": {},
   "outputs": [
    {
     "data": {
      "text/plain": [
       "LinearRegression()"
      ]
     },
     "execution_count": 11,
     "metadata": {},
     "output_type": "execute_result"
    }
   ],
   "source": [
    "#Initialising the Model (LR) and fitting\n",
    "lr = LinearRegression()\n",
    "# Train the model\n",
    "lr.fit(x_train, y_train)"
   ]
  },
  {
   "cell_type": "code",
   "execution_count": 12,
   "id": "855c25c6-907e-484a-9055-2a3035100c6e",
   "metadata": {},
   "outputs": [],
   "source": [
    "#Predicting with SVM (SVR)\n",
    "svm_prediction = svm.predict(pred)\n",
    "#Predicting with LR\n",
    "lr_prediction = lr.predict(pred)"
   ]
  },
  {
   "cell_type": "code",
   "execution_count": 13,
   "id": "38deee45-f34f-499a-8aa0-2919945a422c",
   "metadata": {},
   "outputs": [
    {
     "name": "stdout",
     "output_type": "stream",
     "text": [
      "[58537.788432   61137.78483944 59656.06658052 57256.58062741\n",
      " 58187.97967601 60830.87634757 61674.42219669 66331.83872424\n",
      " 68398.57030213 69742.51392193 70574.9799518  73551.66830869\n",
      " 76096.95992628 71607.50838971 68348.82414377 69570.93987347\n",
      " 73063.45706833 72775.78159674 73529.21357151 71308.24477259\n",
      " 70517.36560142 67402.12415762 68039.16482641 63600.87070589\n",
      " 65240.48317825 68129.01495806 69085.90965261 70701.07511917\n",
      " 72871.11289792 73506.99519794]\n"
     ]
    }
   ],
   "source": [
    "print(svm_prediction)"
   ]
  },
  {
   "cell_type": "markdown",
   "id": "6fb36624-8b2a-4cce-855d-f467d9b544f0",
   "metadata": {
    "tags": []
   },
   "source": [
    "#### Evaluation of the Metrics:"
   ]
  },
  {
   "cell_type": "markdown",
   "id": "a494d294-21ab-4ece-a4a7-74e0d7654372",
   "metadata": {},
   "source": [
    "I decided to use the following the metrics to evaluate the Model:\n",
    "  \n",
    "- Mean Absolute Error (MAE)\n",
    "- Root Mean Square Error (RMSE)\n",
    "- Explained Variance Score (EVS)\n",
    "- R² Score (R2)\n",
    "- Max Error Score (MES)"
   ]
  },
  {
   "cell_type": "code",
   "execution_count": 14,
   "id": "bdf19b38-86c6-4f40-8482-d12514f43669",
   "metadata": {},
   "outputs": [
    {
     "data": {
      "image/png": "[encoded data removed]",
      "text/plain": [
       "<Figure size 864x360 with 1 Axes>"
      ]
     },
     "metadata": {
      "needs_background": "light"
     },
     "output_type": "display_data"
    }
   ],
   "source": [
    "# First Plotting the Training Period with Prediction vs True Values\n",
    "\n",
    "plt.figure(figsize=(12, 5))\n",
    "plt.title(\"Training: SVM vs LR vs True\")\n",
    "plt.xlabel('Time in Days')\n",
    "plt.ylabel('Price in USD')\n",
    "plt.grid(visible=True, which='major', axis='both')\n",
    "plt.plot(lr_prediction, label = 'LR Prediction')\n",
    "plt.plot(svm_prediction, label = 'SVM Prediction')\n",
    "plt.plot(pred, label = 'True Values')\n",
    "plt.legend()\n",
    "plt.show()"
   ]
  },
  {
   "cell_type": "code",
   "execution_count": 15,
   "id": "ab314450-ab41-4cf6-bf55-4c043d83e856",
   "metadata": {},
   "outputs": [
    {
     "name": "stdout",
     "output_type": "stream",
     "text": [
      "Model: SVM, Support Vector Machine\n",
      "Mean Absolute Error: 12837.906118053257\n",
      "Root Mean Square Error: 12948.056398256756\n",
      "Explained Variance Score: 0.7727879843520709\n",
      "R² Score: -12.411319409308051\n",
      "Max Error Scorer: 15639.529535113521\n",
      "\n",
      "**********************************************************\n",
      "\n",
      "Model: LR, Linear Regression\n",
      "Mean Absolute Error: 9541.573922091588\n",
      "Root Mean Square Error: 9562.535032977945\n",
      "Explained Variance Score: 0.9679665715180238\n",
      "R² Score: -6.314900441904619\n",
      "Max Error Scorer: 10541.37351697003\n",
      "\n",
      "**********************************************************\n",
      "\n"
     ]
    }
   ],
   "source": [
    "true = pred\n",
    "svm = svm_prediction\n",
    "lreg = lr_prediction\n",
    "\n",
    "# Printing the metrics mentioned above\n",
    "metrics(true, svm, \"SVM, Support Vector Machine\")\n",
    "metrics(true, lreg, \"LR, Linear Regression\")"
   ]
  }
 ],
 "metadata": {
  "kernelspec": {
   "display_name": "Python 3 (ipykernel)",
   "language": "python",
   "name": "python3"
  },
  "language_info": {
   "codemirror_mode": {
    "name": "ipython",
    "version": 3
   },
   "file_extension": ".py",
   "mimetype": "text/x-python",
   "name": "python",
   "nbconvert_exporter": "python",
   "pygments_lexer": "ipython3",
   "version": "3.7.12"
  }
 },
 "nbformat": 4,
 "nbformat_minor": 5
}

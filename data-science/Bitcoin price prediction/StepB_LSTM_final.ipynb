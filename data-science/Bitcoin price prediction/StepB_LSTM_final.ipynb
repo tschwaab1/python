{
 "cells": [
  {
   "cell_type": "code",
   "execution_count": 1,
   "id": "c74ddfef-7b61-4067-bb55-6d2e7c761a57",
   "metadata": {},
   "outputs": [],
   "source": [
    "import numpy as np \n",
    "import pandas as pd \n",
    "import tensorflow as tf\n",
    "from matplotlib import pyplot as plt\n",
    "\n",
    "from keras.models import Sequential\n",
    "from keras.layers import Dense\n",
    "from keras.layers import LSTM\n",
    "from keras.layers import Dropout, SimpleRNN\n",
    "\n",
    "from sklearn.preprocessing import MinMaxScaler\n",
    "from sklearn.metrics import mean_absolute_error, mean_squared_error, r2_score, explained_variance_score, max_error"
   ]
  },
  {
   "cell_type": "markdown",
   "id": "6229f500-457a-4aad-b33b-0b6e759ec987",
   "metadata": {},
   "source": [
    "#### Defining all the Parameters needed:"
   ]
  },
  {
   "cell_type": "code",
   "execution_count": 2,
   "id": "8964cce1-1204-4bbe-ad7f-393ba150c69c",
   "metadata": {},
   "outputs": [],
   "source": [
    "days = 30 # The Number of Days to preddict\n",
    "sequence_length = 20 # The Dataset will additionally be splitted into sequences to enhance the Prediction\n",
    "\n",
    "######LSTM Model Parameters#######\n",
    "#One note about the activation_function: tanh is GPU accelerated, relu not\n",
    "\n",
    "activation_function = ['tanh', 'relu'] # the first one is used 2 times\n",
    "optimizer_function = 'adam' # e.g. Nadam,\n",
    "loss_function = 'mean_squared_error'\n",
    "num_epochs = 10\n",
    "batch_size = 60\n",
    "\n",
    "######some other declerations and function###########\n",
    "\n",
    "min_max_scalar = MinMaxScaler()\n",
    "\n",
    "def lstm_metrics(true, predicted, model):\n",
    "    print(model+\"\\n\")\n",
    "    print(\"Mean Absolute Error: \"+str(mean_absolute_error(true, predicted)))\n",
    "    print(\"Root Mean Square Error: \"+str(np.sqrt(mean_squared_error(true, predicted))))\n",
    "    print(\"Explained Variance Score: \"+str(explained_variance_score(true, predicted)))\n",
    "    print(\"R² Score: \"+str(r2_score(true, predicted)))\n",
    "    print(\"Max Error Scorer: \"+str(max_error(true, predicted)))"
   ]
  },
  {
   "cell_type": "markdown",
   "id": "eb9318e4-18c0-4fee-af72-1bd4b8fdf8bd",
   "metadata": {},
   "source": [
    "#### Starting with the last Preparations"
   ]
  },
  {
   "cell_type": "markdown",
   "id": "d3ccab56-e867-4b94-ab1f-ffbe7e1a2616",
   "metadata": {},
   "source": [
    "This Notebook will start with the results/cleaned dataframe from \"StepA_DataPrepartion.ipynb\" which is stored in under the Path \"./data/daily_dataframe.csv\""
   ]
  },
  {
   "cell_type": "code",
   "execution_count": 3,
   "id": "f0cf9a02-e1ce-49a6-8bb1-a69e63a80ed0",
   "metadata": {},
   "outputs": [
    {
     "data": {
      "text/html": [
       "<div>\n",
       "<style scoped>\n",
       "    .dataframe tbody tr th:only-of-type {\n",
       "        vertical-align: middle;\n",
       "    }\n",
       "\n",
       "    .dataframe tbody tr th {\n",
       "        vertical-align: top;\n",
       "    }\n",
       "\n",
       "    .dataframe thead th {\n",
       "        text-align: right;\n",
       "    }\n",
       "</style>\n",
       "<table border=\"1\" class=\"dataframe\">\n",
       "  <thead>\n",
       "    <tr style=\"text-align: right;\">\n",
       "      <th></th>\n",
       "      <th>Open</th>\n",
       "      <th>High</th>\n",
       "      <th>Low</th>\n",
       "      <th>Close</th>\n",
       "      <th>Volume_(BTC)</th>\n",
       "      <th>Volume_(Currency)</th>\n",
       "      <th>Weighted_Price</th>\n",
       "    </tr>\n",
       "  </thead>\n",
       "  <tbody>\n",
       "    <tr>\n",
       "      <th>0</th>\n",
       "      <td>4.476415</td>\n",
       "      <td>4.478946</td>\n",
       "      <td>4.476415</td>\n",
       "      <td>4.478946</td>\n",
       "      <td>18.296675</td>\n",
       "      <td>81.131884</td>\n",
       "      <td>4.477370</td>\n",
       "    </tr>\n",
       "    <tr>\n",
       "      <th>1</th>\n",
       "      <td>4.765486</td>\n",
       "      <td>4.765486</td>\n",
       "      <td>4.765486</td>\n",
       "      <td>4.765486</td>\n",
       "      <td>6.520824</td>\n",
       "      <td>31.728779</td>\n",
       "      <td>4.765486</td>\n",
       "    </tr>\n",
       "    <tr>\n",
       "      <th>2</th>\n",
       "      <td>5.000000</td>\n",
       "      <td>5.000000</td>\n",
       "      <td>5.000000</td>\n",
       "      <td>5.000000</td>\n",
       "      <td>15.537153</td>\n",
       "      <td>77.685764</td>\n",
       "      <td>5.000000</td>\n",
       "    </tr>\n",
       "    <tr>\n",
       "      <th>3</th>\n",
       "      <td>5.225903</td>\n",
       "      <td>5.225903</td>\n",
       "      <td>5.225903</td>\n",
       "      <td>5.225903</td>\n",
       "      <td>7.633635</td>\n",
       "      <td>39.441143</td>\n",
       "      <td>5.225903</td>\n",
       "    </tr>\n",
       "    <tr>\n",
       "      <th>4</th>\n",
       "      <td>5.186993</td>\n",
       "      <td>5.227674</td>\n",
       "      <td>5.186993</td>\n",
       "      <td>5.227674</td>\n",
       "      <td>13.885945</td>\n",
       "      <td>74.060105</td>\n",
       "      <td>5.201707</td>\n",
       "    </tr>\n",
       "    <tr>\n",
       "      <th>...</th>\n",
       "      <td>...</td>\n",
       "      <td>...</td>\n",
       "      <td>...</td>\n",
       "      <td>...</td>\n",
       "      <td>...</td>\n",
       "      <td>...</td>\n",
       "      <td>...</td>\n",
       "    </tr>\n",
       "    <tr>\n",
       "      <th>3371</th>\n",
       "      <td>55192.143139</td>\n",
       "      <td>55218.473451</td>\n",
       "      <td>55167.740437</td>\n",
       "      <td>55194.338458</td>\n",
       "      <td>1.814064</td>\n",
       "      <td>100341.387345</td>\n",
       "      <td>55192.261999</td>\n",
       "    </tr>\n",
       "    <tr>\n",
       "      <th>3372</th>\n",
       "      <td>55834.184958</td>\n",
       "      <td>55858.268208</td>\n",
       "      <td>55811.112208</td>\n",
       "      <td>55835.612028</td>\n",
       "      <td>1.443994</td>\n",
       "      <td>80412.639688</td>\n",
       "      <td>55833.580482</td>\n",
       "    </tr>\n",
       "    <tr>\n",
       "      <th>3373</th>\n",
       "      <td>56911.283486</td>\n",
       "      <td>56942.541743</td>\n",
       "      <td>56881.677681</td>\n",
       "      <td>56911.995660</td>\n",
       "      <td>3.724880</td>\n",
       "      <td>213292.698642</td>\n",
       "      <td>56910.369124</td>\n",
       "    </tr>\n",
       "    <tr>\n",
       "      <th>3374</th>\n",
       "      <td>58346.922167</td>\n",
       "      <td>58371.047285</td>\n",
       "      <td>58323.091465</td>\n",
       "      <td>58348.516944</td>\n",
       "      <td>2.359691</td>\n",
       "      <td>137978.415411</td>\n",
       "      <td>58346.019783</td>\n",
       "    </tr>\n",
       "    <tr>\n",
       "      <th>3375</th>\n",
       "      <td>58767.750000</td>\n",
       "      <td>58778.180000</td>\n",
       "      <td>58755.970000</td>\n",
       "      <td>58778.180000</td>\n",
       "      <td>2.712831</td>\n",
       "      <td>159417.751000</td>\n",
       "      <td>58764.349363</td>\n",
       "    </tr>\n",
       "  </tbody>\n",
       "</table>\n",
       "<p>3376 rows × 7 columns</p>\n",
       "</div>"
      ],
      "text/plain": [
       "              Open          High           Low         Close  Volume_(BTC)  \\\n",
       "0         4.476415      4.478946      4.476415      4.478946     18.296675   \n",
       "1         4.765486      4.765486      4.765486      4.765486      6.520824   \n",
       "2         5.000000      5.000000      5.000000      5.000000     15.537153   \n",
       "3         5.225903      5.225903      5.225903      5.225903      7.633635   \n",
       "4         5.186993      5.227674      5.186993      5.227674     13.885945   \n",
       "...            ...           ...           ...           ...           ...   \n",
       "3371  55192.143139  55218.473451  55167.740437  55194.338458      1.814064   \n",
       "3372  55834.184958  55858.268208  55811.112208  55835.612028      1.443994   \n",
       "3373  56911.283486  56942.541743  56881.677681  56911.995660      3.724880   \n",
       "3374  58346.922167  58371.047285  58323.091465  58348.516944      2.359691   \n",
       "3375  58767.750000  58778.180000  58755.970000  58778.180000      2.712831   \n",
       "\n",
       "      Volume_(Currency)  Weighted_Price  \n",
       "0             81.131884        4.477370  \n",
       "1             31.728779        4.765486  \n",
       "2             77.685764        5.000000  \n",
       "3             39.441143        5.225903  \n",
       "4             74.060105        5.201707  \n",
       "...                 ...             ...  \n",
       "3371      100341.387345    55192.261999  \n",
       "3372       80412.639688    55833.580482  \n",
       "3373      213292.698642    56910.369124  \n",
       "3374      137978.415411    58346.019783  \n",
       "3375      159417.751000    58764.349363  \n",
       "\n",
       "[3376 rows x 7 columns]"
      ]
     },
     "execution_count": 3,
     "metadata": {},
     "output_type": "execute_result"
    }
   ],
   "source": [
    "df = pd.read_csv(\"./data/daily_dataframe.csv\")\n",
    "df"
   ]
  },
  {
   "cell_type": "markdown",
   "id": "410459dd-dd0d-4a74-89e6-f7f763872280",
   "metadata": {},
   "source": [
    "Last check if there are NaN values somewhere hidden"
   ]
  },
  {
   "cell_type": "code",
   "execution_count": 4,
   "id": "764dd91e-8d5a-4411-8bd0-2b8cf9daf371",
   "metadata": {},
   "outputs": [
    {
     "data": {
      "text/plain": [
       "Open                 0\n",
       "High                 0\n",
       "Low                  0\n",
       "Close                0\n",
       "Volume_(BTC)         0\n",
       "Volume_(Currency)    0\n",
       "Weighted_Price       0\n",
       "dtype: int64"
      ]
     },
     "execution_count": 4,
     "metadata": {},
     "output_type": "execute_result"
    }
   ],
   "source": [
    "df.isnull().sum(axis = 0)"
   ]
  },
  {
   "cell_type": "markdown",
   "id": "71134c71-fb3e-4ebf-a30d-3a60429fdc24",
   "metadata": {},
   "source": [
    "Since the dataset has been already prepared in the first step, the are no NaN values.  \n",
    "But to get a smaller dataframe I will only work with Weighted_Price, because it fully correlates with OHLC(Open,High,Low and Close) Prices"
   ]
  },
  {
   "cell_type": "code",
   "execution_count": 5,
   "id": "68b3a15e-1d6b-4d40-9940-4bd07ca48410",
   "metadata": {},
   "outputs": [
    {
     "data": {
      "text/html": [
       "<div>\n",
       "<style scoped>\n",
       "    .dataframe tbody tr th:only-of-type {\n",
       "        vertical-align: middle;\n",
       "    }\n",
       "\n",
       "    .dataframe tbody tr th {\n",
       "        vertical-align: top;\n",
       "    }\n",
       "\n",
       "    .dataframe thead th {\n",
       "        text-align: right;\n",
       "    }\n",
       "</style>\n",
       "<table border=\"1\" class=\"dataframe\">\n",
       "  <thead>\n",
       "    <tr style=\"text-align: right;\">\n",
       "      <th></th>\n",
       "      <th>Weighted_Price</th>\n",
       "    </tr>\n",
       "  </thead>\n",
       "  <tbody>\n",
       "    <tr>\n",
       "      <th>0</th>\n",
       "      <td>4.477370</td>\n",
       "    </tr>\n",
       "    <tr>\n",
       "      <th>1</th>\n",
       "      <td>4.765486</td>\n",
       "    </tr>\n",
       "    <tr>\n",
       "      <th>2</th>\n",
       "      <td>5.000000</td>\n",
       "    </tr>\n",
       "    <tr>\n",
       "      <th>3</th>\n",
       "      <td>5.225903</td>\n",
       "    </tr>\n",
       "    <tr>\n",
       "      <th>4</th>\n",
       "      <td>5.201707</td>\n",
       "    </tr>\n",
       "    <tr>\n",
       "      <th>...</th>\n",
       "      <td>...</td>\n",
       "    </tr>\n",
       "    <tr>\n",
       "      <th>3371</th>\n",
       "      <td>55192.261999</td>\n",
       "    </tr>\n",
       "    <tr>\n",
       "      <th>3372</th>\n",
       "      <td>55833.580482</td>\n",
       "    </tr>\n",
       "    <tr>\n",
       "      <th>3373</th>\n",
       "      <td>56910.369124</td>\n",
       "    </tr>\n",
       "    <tr>\n",
       "      <th>3374</th>\n",
       "      <td>58346.019783</td>\n",
       "    </tr>\n",
       "    <tr>\n",
       "      <th>3375</th>\n",
       "      <td>58764.349363</td>\n",
       "    </tr>\n",
       "  </tbody>\n",
       "</table>\n",
       "<p>3376 rows × 1 columns</p>\n",
       "</div>"
      ],
      "text/plain": [
       "      Weighted_Price\n",
       "0           4.477370\n",
       "1           4.765486\n",
       "2           5.000000\n",
       "3           5.225903\n",
       "4           5.201707\n",
       "...              ...\n",
       "3371    55192.261999\n",
       "3372    55833.580482\n",
       "3373    56910.369124\n",
       "3374    58346.019783\n",
       "3375    58764.349363\n",
       "\n",
       "[3376 rows x 1 columns]"
      ]
     },
     "execution_count": 5,
     "metadata": {},
     "output_type": "execute_result"
    }
   ],
   "source": [
    "df = df.drop(['Open','High','Low','Close','Volume_(BTC)','Volume_(Currency)'], axis = 1)\n",
    "df"
   ]
  },
  {
   "cell_type": "markdown",
   "id": "2db91bc5-04a2-4804-b2b7-bfe75e88eab8",
   "metadata": {},
   "source": [
    "#### Splitting the data in test and train"
   ]
  },
  {
   "cell_type": "code",
   "execution_count": 6,
   "id": "be8e18ad-26ce-40cc-8fa4-742a9aadcf96",
   "metadata": {},
   "outputs": [],
   "source": [
    "#two empty arrays for X and Y and a scaled version of the current Dataframe\n",
    "\n",
    "setX = []\n",
    "setY = []\n",
    "\n",
    "#Creating a Scaled Dataframe\n",
    "df_scaled = min_max_scalar.fit_transform(df)"
   ]
  },
  {
   "cell_type": "code",
   "execution_count": 7,
   "id": "3b9d5109-9341-4495-9d1c-fd51f4aa9407",
   "metadata": {},
   "outputs": [
    {
     "data": {
      "text/plain": [
       "array([[4.04374638e-05],\n",
       "       [3.57595939e-05],\n",
       "       [3.76825727e-05],\n",
       "       ...,\n",
       "       [9.41325389e-01],\n",
       "       [9.65073567e-01],\n",
       "       [9.71993472e-01]])"
      ]
     },
     "execution_count": 7,
     "metadata": {},
     "output_type": "execute_result"
    }
   ],
   "source": [
    "#Populating the the numpy Arrays setX and setY with the values\n",
    "\n",
    "setX = np.array([df_scaled[x-sequence_length:x] for x in range(sequence_length, len(df_scaled))])\n",
    "setY = np.array([df_scaled[x] for x in range(sequence_length, len(df_scaled))])\n",
    "\n",
    "#Reshape both Arrays\n",
    "setX.reshape(-1, 1)\n",
    "setY.reshape(-1, 1)"
   ]
  },
  {
   "cell_type": "code",
   "execution_count": 8,
   "id": "37e85241-1af7-400d-913f-ce73fcea5958",
   "metadata": {},
   "outputs": [],
   "source": [
    "# Creating train, test true and test\n",
    "#Slicing into train (all values except the last x days(Parameter from the beginning))\n",
    "train = setX[:-days]\n",
    "true_train = setY[:-days]\n",
    "\n",
    "#Slicing into test (only the last x days(Parameter from beginning))\n",
    "test = setX[len(setX)-days:]\n",
    "true_test = setY[len(setY)-days:]"
   ]
  },
  {
   "cell_type": "code",
   "execution_count": 9,
   "id": "dca1c5dc-bdc4-4d6c-8c71-56a3a9917b37",
   "metadata": {},
   "outputs": [
    {
     "name": "stderr",
     "output_type": "stream",
     "text": [
      "2022-01-16 11:37:24.675552: I tensorflow/core/common_runtime/gpu/gpu_device.cc:1525] Created device /job:localhost/replica:0/task:0/device:GPU:0 with 79 MB memory:  -> device: 0, name: Tesla K80, pci bus id: 0000:06:00.0, compute capability: 3.7\n"
     ]
    }
   ],
   "source": [
    "regressor = Sequential()\n",
    "regressor.add(SimpleRNN(units = 20,activation=activation_function[0], return_sequences = True, input_shape = (sequence_length, 1)))\n",
    "regressor.add(Dropout(0.2))\n",
    "regressor.add(SimpleRNN(units = 20,activation=activation_function[1], return_sequences = True))\n",
    "regressor.add(SimpleRNN(units = 1,activation=activation_function[0], return_sequences = True))\n",
    "#regressor.add(SimpleRNN(units = 10, activation=activation_function[1], return_sequences = True))\n",
    "regressor.add(SimpleRNN(units = 20))        \n",
    "regressor.add(Dropout(0.2))\n",
    "regressor.add(Dense(units = 1))"
   ]
  },
  {
   "cell_type": "code",
   "execution_count": 10,
   "id": "e15e6a17-ce85-4bdb-9539-f8ca1f90b960",
   "metadata": {},
   "outputs": [
    {
     "name": "stdout",
     "output_type": "stream",
     "text": [
      "Epoch 1/10\n",
      "56/56 [==============================] - 9s 99ms/step - loss: 0.0332\n",
      "Epoch 2/10\n",
      "56/56 [==============================] - 6s 100ms/step - loss: 0.0049\n",
      "Epoch 3/10\n",
      "56/56 [==============================] - 6s 99ms/step - loss: 0.0041\n",
      "Epoch 4/10\n",
      "56/56 [==============================] - 5s 97ms/step - loss: 0.0035\n",
      "Epoch 5/10\n",
      "56/56 [==============================] - 6s 99ms/step - loss: 0.0030\n",
      "Epoch 6/10\n",
      "56/56 [==============================] - 6s 100ms/step - loss: 0.0022\n",
      "Epoch 7/10\n",
      "56/56 [==============================] - 5s 97ms/step - loss: 0.0021\n",
      "Epoch 8/10\n",
      "56/56 [==============================] - 5s 97ms/step - loss: 0.0018\n",
      "Epoch 9/10\n",
      "56/56 [==============================] - 5s 95ms/step - loss: 0.0014\n",
      "Epoch 10/10\n",
      "56/56 [==============================] - 5s 91ms/step - loss: 0.0016\n"
     ]
    }
   ],
   "source": [
    "#Compiling the Model\n",
    "regressor.compile(optimizer = optimizer_function, loss = loss_function)\n",
    "#Fitting and saving the history for later\n",
    "history=regressor.fit(train, true_train, epochs = num_epochs, batch_size = batch_size)"
   ]
  },
  {
   "cell_type": "code",
   "execution_count": 11,
   "id": "ec8a0446-e222-4752-9d85-12fd00603bff",
   "metadata": {},
   "outputs": [],
   "source": [
    "#Prediction of the test and train prices\n",
    "predicted_prices_train = regressor.predict(train)\n",
    "predicted_prices_test = regressor.predict(test)  "
   ]
  },
  {
   "cell_type": "code",
   "execution_count": 12,
   "id": "f72bfa56-2a77-439b-837c-77ef00993532",
   "metadata": {},
   "outputs": [],
   "source": [
    "#Scaling of the predicted Prices\n",
    "predicted_prices_train = min_max_scalar.inverse_transform(predicted_prices_train)\n",
    "predicted_prices_test = min_max_scalar.inverse_transform(predicted_prices_test)\n",
    "\n",
    "#Scaling of the \"true\" prices\n",
    "true_train = min_max_scalar.inverse_transform(true_train)\n",
    "true_test = min_max_scalar.inverse_transform(true_test)"
   ]
  },
  {
   "cell_type": "markdown",
   "id": "0021872c-f270-4ad4-a9d4-e6bfaa1bbe3d",
   "metadata": {
    "tags": []
   },
   "source": [
    "#### Evaluation of the Metrics:"
   ]
  },
  {
   "cell_type": "markdown",
   "id": "89749a14-bd73-407f-9181-b8ef7c24e736",
   "metadata": {},
   "source": [
    "I decided to use the following the metrics to evaluate the Model:\n",
    "  \n",
    "- Mean Absolute Error (MAE)\n",
    "- Root Mean Square Error (RMSE)\n",
    "- Explained Variance Score (EVS)\n",
    "- R² Score (R2)\n",
    "- Max Error Score (MES)"
   ]
  },
  {
   "cell_type": "code",
   "execution_count": 13,
   "id": "bdadc6ae-8329-413e-a905-c7e5ccc548f7",
   "metadata": {},
   "outputs": [
    {
     "data": {
      "image/png": "[encoded data removed]",
      "text/plain": [
       "<Figure size 864x360 with 1 Axes>"
      ]
     },
     "metadata": {
      "needs_background": "light"
     },
     "output_type": "display_data"
    }
   ],
   "source": [
    "# First Plotting the Training Period with Prediction vs True Values\n",
    "\n",
    "plt.figure(figsize=(12, 5))\n",
    "plt.title(\"Training: True vs Prediction\")\n",
    "plt.xlabel('Time in Days')\n",
    "plt.ylabel('Price in USD')\n",
    "plt.grid(visible=True, which='major', axis='both')\n",
    "plt.plot(true_train, label = 'True Values')\n",
    "plt.plot(predicted_prices_train, label = 'Prediction')\n",
    "plt.legend()\n",
    "plt.show()"
   ]
  },
  {
   "cell_type": "code",
   "execution_count": 14,
   "id": "0b2b87ea-0d6f-4478-8022-9841a98fbf1f",
   "metadata": {},
   "outputs": [
    {
     "data": {
      "image/png": "[encoded data removed]",
      "text/plain": [
       "<Figure size 864x360 with 1 Axes>"
      ]
     },
     "metadata": {
      "needs_background": "light"
     },
     "output_type": "display_data"
    }
   ],
   "source": [
    "#Now plotting the Test Period: Prediction vs. True Values\n",
    "plt.figure(figsize=(12, 5))\n",
    "plt.title(\"Test: True vs Prediction\")\n",
    "plt.xlabel('Time in Days')\n",
    "plt.ylabel('Price in USD')\n",
    "plt.grid(visible=True, which='major', axis='both')\n",
    "plt.plot(true_test, label = 'True Values')\n",
    "plt.plot(predicted_prices_test, label = 'Prediction')\n",
    "plt.legend()\n",
    "plt.show()"
   ]
  },
  {
   "cell_type": "code",
   "execution_count": 15,
   "id": "62a6a160-ee24-4df5-b47e-7b830a0f11e3",
   "metadata": {},
   "outputs": [
    {
     "name": "stdout",
     "output_type": "stream",
     "text": [
      "Training Period:\n",
      "\n",
      "Mean Absolute Error: 1020.4767730127392\n",
      "Root Mean Square Error: 1506.8895516622144\n",
      "Explained Variance Score: 0.9615141525402062\n",
      "R² Score: 0.9496919630385792\n",
      "Max Error Scorer: 16315.50641732847\n",
      "\n",
      "\n",
      "********************************************************\n",
      "\n",
      "Test Period:\n",
      "\n",
      "Mean Absolute Error: 5183.316649344028\n",
      "Root Mean Square Error: 5835.3451747764\n",
      "Explained Variance Score: 0.21673518808182568\n",
      "R² Score: -1.723926862465225\n",
      "Max Error Scorer: 9511.556017656942\n"
     ]
    }
   ],
   "source": [
    "# Printing the metrics mentioned above\n",
    "lstm_metrics(true_train, predicted_prices_train, \"Training Period:\")\n",
    "print(\"\\n\")\n",
    "print(\"********************************************************\\n\")\n",
    "lstm_metrics(true_test, predicted_prices_test, \"Test Period:\")"
   ]
  },
  {
   "cell_type": "code",
   "execution_count": 16,
   "id": "2a2956a8-0372-4bf8-85c8-6246dd6aad60",
   "metadata": {},
   "outputs": [
    {
     "data": {
      "image/png": "[encoded data removed]",
      "text/plain": [
       "<Figure size 864x360 with 1 Axes>"
      ]
     },
     "metadata": {
      "needs_background": "light"
     },
     "output_type": "display_data"
    }
   ],
   "source": [
    "#Mean Squared Error/ Epoch\n",
    "plt.figure(figsize=(12, 5))\n",
    "plt.title(\"Training loss per Epoch\")\n",
    "plt.xlabel('Epochs')\n",
    "plt.ylabel('Loss')\n",
    "plt.grid(visible=True, which='major', axis='both')\n",
    "plt.plot(history.history['loss'], label=\"loss / Mean Squared Error\")\n",
    "plt.legend()\n",
    "plt.show()"
   ]
  }
 ],
 "metadata": {
  "kernelspec": {
   "display_name": "Python 3 (ipykernel)",
   "language": "python",
   "name": "python3"
  },
  "language_info": {
   "codemirror_mode": {
    "name": "ipython",
    "version": 3
   },
   "file_extension": ".py",
   "mimetype": "text/x-python",
   "name": "python",
   "nbconvert_exporter": "python",
   "pygments_lexer": "ipython3",
   "version": "3.7.12"
  }
 },
 "nbformat": 4,
 "nbformat_minor": 5
}
